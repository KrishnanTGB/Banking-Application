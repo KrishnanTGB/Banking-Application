{
 "cells": [
  {
   "cell_type": "code",
   "execution_count": 1,
   "metadata": {},
   "outputs": [],
   "source": [
    "class BankAccount:\n",
    "    \n",
    "    def deposit(self):\n",
    "        amount = float(input(\"Enter amount to deposit to your account : \"))\n",
    "        self.balance = self.balance + amount\n",
    "        print(\"Amount deposited to your account : \", amount)\n",
    "        \n",
    "    def withdraw(self):\n",
    "        amount = float(input(\"Enter amount to withdrawn from your account : \"))\n",
    "        if self.balance >= amount:\n",
    "            self.balance -= amount\n",
    "            print(\"\\nYou withdrew : \", amount)\n",
    "        else:\n",
    "            print(\"\\nInsufficient Balance\")\n",
    "            \n",
    "    def display(self):\n",
    "        print(\"\\n Actual Balance : \", self.balance)\n",
    "    \n",
    "    def __init__(self,ownerName,balance):\n",
    "        self.ownerName = \"\"\n",
    "        self.balance = 0\n",
    "        print(\"Account Created.. \\n\\nAccount Name : \", ownerName)\n",
    "        "
   ]
  },
  {
   "cell_type": "code",
   "execution_count": 7,
   "metadata": {},
   "outputs": [
    {
     "name": "stdout",
     "output_type": "stream",
     "text": [
      "Account Created.. \n",
      "\n",
      "Account Name :  Ding\n"
     ]
    }
   ],
   "source": [
    "acc = BankAccount(\"Ding\",1000)"
   ]
  },
  {
   "cell_type": "code",
   "execution_count": 8,
   "metadata": {},
   "outputs": [
    {
     "name": "stdout",
     "output_type": "stream",
     "text": [
      "Enter amount to deposit to your account : 2000\n",
      "Amount deposited to your account :  2000.0\n"
     ]
    }
   ],
   "source": [
    "acc.deposit()"
   ]
  },
  {
   "cell_type": "code",
   "execution_count": 9,
   "metadata": {},
   "outputs": [
    {
     "name": "stdout",
     "output_type": "stream",
     "text": [
      "\n",
      " Actual Balance :  2000.0\n"
     ]
    }
   ],
   "source": [
    "acc.display()"
   ]
  },
  {
   "cell_type": "code",
   "execution_count": 10,
   "metadata": {},
   "outputs": [
    {
     "name": "stdout",
     "output_type": "stream",
     "text": [
      "Enter amount to withdrawn from your account : 1300\n",
      "\n",
      "You withdrew :  1300.0\n"
     ]
    }
   ],
   "source": [
    "acc.withdraw()"
   ]
  },
  {
   "cell_type": "code",
   "execution_count": 11,
   "metadata": {},
   "outputs": [
    {
     "name": "stdout",
     "output_type": "stream",
     "text": [
      "\n",
      " Actual Balance :  700.0\n"
     ]
    }
   ],
   "source": [
    "acc.display()"
   ]
  },
  {
   "cell_type": "code",
   "execution_count": 12,
   "metadata": {},
   "outputs": [
    {
     "name": "stdout",
     "output_type": "stream",
     "text": [
      "Enter amount to withdrawn from your account : 700\n",
      "\n",
      "You withdrew :  700.0\n"
     ]
    }
   ],
   "source": [
    "acc.withdraw()"
   ]
  },
  {
   "cell_type": "code",
   "execution_count": 13,
   "metadata": {},
   "outputs": [
    {
     "name": "stdout",
     "output_type": "stream",
     "text": [
      "\n",
      " Actual Balance :  0.0\n"
     ]
    }
   ],
   "source": [
    "acc.display()"
   ]
  },
  {
   "cell_type": "code",
   "execution_count": 15,
   "metadata": {},
   "outputs": [
    {
     "name": "stdout",
     "output_type": "stream",
     "text": [
      "Enter amount to withdrawn from your account : 1000\n",
      "\n",
      "Insufficient Balance\n"
     ]
    }
   ],
   "source": [
    "acc.withdraw()"
   ]
  }
 ],
 "metadata": {
  "kernelspec": {
   "display_name": "Python 3",
   "language": "python",
   "name": "python3"
  },
  "language_info": {
   "codemirror_mode": {
    "name": "ipython",
    "version": 3
   },
   "file_extension": ".py",
   "mimetype": "text/x-python",
   "name": "python",
   "nbconvert_exporter": "python",
   "pygments_lexer": "ipython3",
   "version": "3.8.3"
  }
 },
 "nbformat": 4,
 "nbformat_minor": 4
}
